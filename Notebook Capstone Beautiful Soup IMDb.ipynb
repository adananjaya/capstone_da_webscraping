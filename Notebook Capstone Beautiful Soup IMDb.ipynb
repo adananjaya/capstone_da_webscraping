{
 "cells": [
  {
   "cell_type": "markdown",
   "metadata": {},
   "source": [
    "# Capstone Webscrapping Menggunakan BeautifulSoup\n",
    "\n",
    "Notebook ini berisi catatan, panduan, dan contoh sederhana mengenai webscrapping menggunakan `BeautifulSoup`. Webscrapping adalah salah satu cara yang dapat digunakan untuk mendapatkan data dari internet. Untuk menggunakan metode webscrapping diperlukan pengetahuan dasar tentang `html`. Berikut dokumentasi [beautifulsoup](https://www.crummy.com/software/BeautifulSoup/bs4/doc) sebagai penunjang untuk Capstone Project ini.\n",
    "\n",
    "## Latar Belakang\n",
    "\n",
    "Pada project ini, dilakukan webscrapping data pada situs IMDb. IMDb (Internet Movies Database) adalah situs daring database berisikan informasi tentang film dan tv-series. Kegiatan webscrapping ini hanya untuk tujuan edukasi saja. \n",
    "\n",
    "Tujuan dari project ini adalah menentukan tujuh film paling populer di tahun 2021. Webscrapping dilakukan untuk mengambil data `Judul`, `Rating`, `Meta Score`, dan `Votes` sebagai penentu film paling populer tahun 2021. Environment ini sudah merujuk kepada `requirement.txt` dengan nama `webscrap_capstone`.\n",
    "\n",
    "<img src=\"assets_notebook/env1.png\">\n",
    "\n",
    "<img src=\"assets_notebook/env2.png\">\n"
   ]
  },
  {
   "cell_type": "markdown",
   "metadata": {},
   "source": [
    "___"
   ]
  },
  {
   "cell_type": "markdown",
   "metadata": {},
   "source": [
    "## Request Data dan Menggunakan Library BeautifulSoup\n",
    "\n",
    "Dimulai dengan menggunakan metode `get` untuk mengambil data dari laman [disini](https://www.imdb.com/search/title/?release_date=2021-01-01,2021-12-31). Jangan lupa untuk *import* library `request`"
   ]
  },
  {
   "cell_type": "code",
   "execution_count": 2,
   "metadata": {
    "ExecuteTime": {
     "end_time": "2020-01-13T05:12:23.275508Z",
     "start_time": "2020-01-13T05:12:20.009898Z"
    }
   },
   "outputs": [],
   "source": [
    "import requests\n",
    "\n",
    "url_get = requests.get('https://www.imdb.com/search/title/?release_date=2021-01-01,2021-12-31')"
   ]
  },
  {
   "cell_type": "markdown",
   "metadata": {},
   "source": [
    "Dapat dilihat hasil `get` pada variable `url_get` berisikan data html pada halaman IMDb. Agar tidak terlalu memenuhi, dilakukan *slicing*."
   ]
  },
  {
   "cell_type": "code",
   "execution_count": 98,
   "metadata": {
    "ExecuteTime": {
     "end_time": "2020-01-13T05:12:23.290648Z",
     "start_time": "2020-01-13T05:12:23.277650Z"
    }
   },
   "outputs": [
    {
     "data": {
      "text/plain": [
       "b'\\n<!DOCTYPE html>\\n<html\\n    xmlns:og=\"http://ogp.me/ns#\"\\n    xmlns:fb=\"http://www.facebook.com/2008/fbml\">\\n    <head>\\n         \\n\\n        <meta charset=\"utf-8\">\\n        <meta http-equiv=\"X-UA-Compatible\" content=\"IE=edge\">\\n\\n\\n\\n\\n        <script type=\"text/javascript\">var IMDbTimer={starttime: new Date().getTime(),pt:\\'java\\'};</script>\\n\\n<script>\\n    if (typeof uet == \\'function\\') {\\n      uet(\"bb\", \"LoadTitle\", {wb: 1});\\n    }\\n</script>\\n  <script>(function(t){ (t.events = t.events || {})[\"csm_head_pre_'"
      ]
     },
     "execution_count": 98,
     "metadata": {},
     "output_type": "execute_result"
    }
   ],
   "source": [
    "url_get.content[1:500]"
   ]
  },
  {
   "cell_type": "markdown",
   "metadata": {},
   "source": [
    "Dapat dilihat dari hasil di atas, data html yang didapat tidak terstruktur. Oleh karena itu, digunakan `beautifulsoup` agar tampilan terstruktur dan lebih mudah dipahami. Hasil dari `beautifulsoup` dapat dilihat di bawah ini."
   ]
  },
  {
   "cell_type": "code",
   "execution_count": 3,
   "metadata": {
    "ExecuteTime": {
     "end_time": "2020-01-13T05:12:23.808122Z",
     "start_time": "2020-01-13T05:12:23.292610Z"
    },
    "scrolled": true
   },
   "outputs": [],
   "source": [
    "from bs4 import BeautifulSoup \n",
    "\n",
    "soup = BeautifulSoup(url_get.content,\"html.parser\")"
   ]
  },
  {
   "cell_type": "code",
   "execution_count": 4,
   "metadata": {},
   "outputs": [
    {
     "name": "stdout",
     "output_type": "stream",
     "text": [
      "<!DOCTYPE html>\n",
      "<html xmlns:fb=\"http://www.facebook.com/2008/fbml\" xmlns:og=\"http://ogp.me/ns#\">\n",
      " <head>\n",
      "  <meta charset=\"utf-8\"/>\n",
      "  <meta content=\"IE=edge\" http-equiv=\"X-UA-Compatible\"/>\n",
      "  <script type=\"text/javascript\">\n",
      "   var IMDbTimer={starttime: new Date().getTime(),pt:'java'};\n",
      "  </script>\n",
      "  <script>\n",
      "   if (typeof uet == 'function') {\n",
      "      uet(\"bb\", \"LoadTitle\", {wb: 1});\n",
      "    }\n",
      "  </script>\n",
      "  <script>\n",
      "   (function(t){ (t.events = t.events || {})[\"csm_head_pre_title\"] = new Date().getTime();\n"
     ]
    }
   ],
   "source": [
    "print(soup.prettify()[:500])"
   ]
  },
  {
   "cell_type": "markdown",
   "metadata": {},
   "source": [
    "## Menentukan bagian yang ingin diekstrasi menjadi data"
   ]
  },
  {
   "cell_type": "markdown",
   "metadata": {},
   "source": [
    "Ekstrasi data dapat dilakukan dengan menggunakan fungsi `.find()` dan `.find_all()`. Fungsi `.find()` mengkstrak data satu kali dan yang paling pertama muncul yang sesuai dengan bagian yang ingin diambil di html. Fungsi `.findall()` mengkstrak data semua yang sesuai dengan bagian yang ingin diambil di html. Untuk menspesifikasikan dua fungsi tersebut dapat dikombinasikan dan agar lebih spesifik dapat digunakan juga `attrs`."
   ]
  },
  {
   "cell_type": "markdown",
   "metadata": {},
   "source": [
    "Penentuan bagian dapat menggunakan mode **inspect**. Pertama tentukan terlebih dahulu bagian data yang ingin diambil sebagai perwakilan dari seluruh data.\n",
    "\n",
    "<img src=\"assets_notebook/lister-list.png\">\n",
    "\n",
    "<img src=\"assets_notebook/lister-item-content.png\">\n",
    "\n",
    "Dapat dilihat bahwa `lister-list` merupakan bagian seluruh data dan `lister-item-content` adalah bagian spesifik dari data yang ingin diambil. Setelah itu *run code* di bawah dan masukkan ke variabel `tabel`."
   ]
  },
  {
   "cell_type": "code",
   "execution_count": 5,
   "metadata": {
    "ExecuteTime": {
     "end_time": "2020-01-13T05:12:23.878904Z",
     "start_time": "2020-01-13T05:12:23.854974Z"
    }
   },
   "outputs": [],
   "source": [
    "table = soup.find('div', attrs={'class':'lister-list'}).find_all('div',attrs={'class':'lister-item-content'})"
   ]
  },
  {
   "cell_type": "markdown",
   "metadata": {},
   "source": [
    "Pada bagian judul, terletak pada bagian `a href` di dalam `lister-item-header`. Oleh karena itu diperlukan runtutan `.find()` untuk mendapatkan data yang diinginkan. \n",
    "<img src=\"assets_notebook/title.png\">\n",
    "Gunakan `.text` dan `.strip()` agar data yang diambil menjadi ringkas."
   ]
  },
  {
   "cell_type": "code",
   "execution_count": 6,
   "metadata": {},
   "outputs": [
    {
     "data": {
      "text/plain": [
       "'The Black Phone'"
      ]
     },
     "execution_count": 6,
     "metadata": {},
     "output_type": "execute_result"
    }
   ],
   "source": [
    "table[0].find('h3', attrs={'class':'lister-item-header'}).find('a').text.strip()"
   ]
  },
  {
   "cell_type": "markdown",
   "metadata": {},
   "source": [
    "Pada bagian rating, terletak pada bagian `inline-block ratings-imdb-rating`.\n",
    "<img src=\"assets_notebook/rating.png\">\n",
    "Gunakan `.text` dan `.strip()` agar data yang diambil menjadi ringkas."
   ]
  },
  {
   "cell_type": "code",
   "execution_count": 7,
   "metadata": {},
   "outputs": [
    {
     "data": {
      "text/plain": [
       "'7.3'"
      ]
     },
     "execution_count": 7,
     "metadata": {},
     "output_type": "execute_result"
    }
   ],
   "source": [
    "table[0].find('div', attrs={'class':'inline-block ratings-imdb-rating'}).text.strip()"
   ]
  },
  {
   "cell_type": "markdown",
   "metadata": {},
   "source": [
    "Di bagian metascore, terletak pada bagian `span` di dalam `inline-block ratings-metascore`. Oleh karena itu diperlukan runtutan `.find()` untuk mendapatkan data yang diinginkan.\n",
    "<img src=\"assets_notebook/metascore.png\">\n",
    "Gunakan `.text` dan `.strip()` agar data yang diambil menjadi ringkas."
   ]
  },
  {
   "cell_type": "code",
   "execution_count": 8,
   "metadata": {},
   "outputs": [
    {
     "data": {
      "text/plain": [
       "65.0"
      ]
     },
     "execution_count": 8,
     "metadata": {},
     "output_type": "execute_result"
    }
   ],
   "source": [
    "float(table[0].find('div', attrs={'class':'inline-block ratings-metascore'}).find('span').text.strip())"
   ]
  },
  {
   "cell_type": "markdown",
   "metadata": {},
   "source": [
    "Terakhir untuk votes, terletak pada bagian `span` di dalam `sort-num_votes-visible`. Oleh karena itu diperlukan runtutan `.find()` untuk mendapatkan data yang diinginkan.\n",
    "<img src=\"assets_notebook/metascore.png\">\n",
    "Gunakan `.text` dan `.strip()` agar data yang diambil menjadi ringkas."
   ]
  },
  {
   "cell_type": "code",
   "execution_count": 9,
   "metadata": {},
   "outputs": [
    {
     "data": {
      "text/plain": [
       "'23714'"
      ]
     },
     "execution_count": 9,
     "metadata": {},
     "output_type": "execute_result"
    }
   ],
   "source": [
    "table[0].find('p', attrs={'class':'sort-num_votes-visible'}).find('span', attrs={'name':'nv'}).text.strip().replace(\",\",\"\")"
   ]
  },
  {
   "cell_type": "markdown",
   "metadata": {},
   "source": [
    "Mencari panjang baris. Hal ini dilakukan untuk melakukan iterasi pada pengambilan data"
   ]
  },
  {
   "cell_type": "code",
   "execution_count": 10,
   "metadata": {},
   "outputs": [
    {
     "data": {
      "text/plain": [
       "50"
      ]
     },
     "execution_count": 10,
     "metadata": {},
     "output_type": "execute_result"
    }
   ],
   "source": [
    "row_length = len(table)\n",
    "row_length"
   ]
  },
  {
   "cell_type": "markdown",
   "metadata": {},
   "source": [
    "Setelah data yang diambil sudah sesuai, selanjutnya dilakukan iterasi untuk mengambil semua data pada satu laman `html`. Alurnya adalah sebagai berikut:\n",
    "1. Inisiasi `temp` sebagai tuple penyimpan data, `j` sebagai iterasi pertama pada laman pertama imdb(sekali laman memuat 50 judul), `n` sebagai banyaknya judul yang ingin diambil.\n",
    "2. Iterasi pertama mencakup manipulasi pembukaan laman html agar sesuai berapa banyak data yang ingin diambil\n",
    "3. Iterasi kedua adalah mengambil data `title`, `rating`, `metascore`, dan `votes` dari 50 data film yang ada di `html`\n",
    "4. Guna menghindari *error* dikarenakan data yang kurang lengkap, digunakan fungsi `try` dan `except` yang mengembalikan nilai yang hilang menjadi 0\n",
    "5. Masukkan semua data ke dalam variabel `temp`"
   ]
  },
  {
   "cell_type": "code",
   "execution_count": 11,
   "metadata": {
    "ExecuteTime": {
     "end_time": "2020-01-13T05:12:24.008256Z",
     "start_time": "2020-01-13T05:12:23.980358Z"
    }
   },
   "outputs": [
    {
     "data": {
      "text/plain": [
       "[('The Black Phone', '7.3', '65', '23714'),\n",
       " ('Only Murders in the Building', '8.1', 0, '73507'),\n",
       " ('Sing 2', '7.4', '49', '55541'),\n",
       " ('Spider-Man: No Way Home', '8.3', '71', '672875'),\n",
       " ('1883', '8.8', 0, '56044'),\n",
       " ('No Time to Die', '7.3', '68', '372866'),\n",
       " ('Superman & Lois', '7.8', 0, '30541'),\n",
       " ('Last Night in Soho', '7.1', '65', '113071'),\n",
       " ('Hacks', '8.2', 0, '25158'),\n",
       " ('Dune: Part One', '8.0', '74', '587865'),\n",
       " ('Ghostbusters: Afterlife', '7.1', '45', '161908'),\n",
       " ('Mad God', '6.8', '80', '4644'),\n",
       " ('The Book of Boba Fett', '7.3', 0, '133795'),\n",
       " (\"You Don't Know Me\", '6.8', 0, '3926'),\n",
       " ('WandaVision', '7.9', 0, '301249'),\n",
       " ('Pleasure', '6.3', '75', '12169'),\n",
       " ('Old', '5.8', '55', '109335'),\n",
       " ('Eternals', '6.3', '52', '318272'),\n",
       " ('Invincible', '8.7', 0, '121087'),\n",
       " ('House of Gucci', '6.6', '59', '110751'),\n",
       " ('Resident Evil: Welcome to Raccoon City', '5.2', '44', '46932'),\n",
       " ('Licorice Pizza', '7.3', '90', '89016'),\n",
       " ('Ojing-eo geim', '8.0', 0, '424874'),\n",
       " ('Verdens verste menneske', '7.9', '90', '50620'),\n",
       " ('Free Guy', '7.1', '62', '348774'),\n",
       " ('Encanto', '7.2', '75', '205320'),\n",
       " ('Yellowjackets', '7.9', 0, '40084'),\n",
       " ('Arcane: League of Legends', '9.0', 0, '184471'),\n",
       " ('Loki', '8.2', 0, '291051'),\n",
       " ('The Card Counter', '6.2', '77', '29194'),\n",
       " ('The Matrix Resurrections', '5.7', '63', '234166'),\n",
       " ('Operation Mincemeat', '6.6', '65', '17525'),\n",
       " ('Shang-Chi and the Legend of the Ten Rings', '7.4', '71', '360974'),\n",
       " (\"The King's Man\", '6.3', '44', '133375'),\n",
       " ('Marcel the Shell with Shoes On', '8.2', '81', '631'),\n",
       " (\"Don't Look Up\", '7.2', '49', '512259'),\n",
       " ('Walker', '5.9', 0, '11118'),\n",
       " ('The Outlaws', '7.6', 0, '8944'),\n",
       " ('The Suicide Squad', '7.2', '72', '334797'),\n",
       " ('The French Dispatch', '7.2', '74', '110714'),\n",
       " ('CODA', '8.0', '74', '116284'),\n",
       " ('Nightmare Alley', '7.0', '70', '129538'),\n",
       " ('Dopesick', '8.6', 0, '48891'),\n",
       " ('Joe Pickett', '7.5', 0, '1913'),\n",
       " ('The Last Duel', '7.4', '67', '145095'),\n",
       " ('Physical', '7.3', 0, '8229'),\n",
       " ('The Wheel of Time', '7.1', 0, '96821'),\n",
       " ('Red Notice', '6.3', '37', '262432'),\n",
       " ('Wrath of Man', '7.1', '57', '166607'),\n",
       " ('Venom: Let There Be Carnage', '5.9', '49', '209495'),\n",
       " ('Nobody', '7.4', '64', '231868'),\n",
       " ('The Sex Lives of College Girls', '7.7', 0, '14131'),\n",
       " ('Black Widow', '6.7', '67', '358651'),\n",
       " ('The White Lotus', '7.6', 0, '59256'),\n",
       " ('What If...?', '7.4', 0, '104837'),\n",
       " ('Hawkeye', '7.6', 0, '164811'),\n",
       " ('West Side Story', '7.2', '85', '75113'),\n",
       " ('Midnight Mass', '7.7', 0, '105472'),\n",
       " ('Grace', '7.2', 0, '3618'),\n",
       " ('F9', '5.2', '58', '126175'),\n",
       " ('Mayor of Kingstown', '8.2', 0, '21132'),\n",
       " ('Shadow and Bone', '7.6', 0, '79549'),\n",
       " ('Midnight in the Switchgrass', '4.4', '24', '7000'),\n",
       " ('Ghosts', '7.7', 0, '13609'),\n",
       " ('Sex/Life', '5.4', 0, '20375'),\n",
       " ('Mare of Easttown', '8.5', 0, '145881'),\n",
       " ('Stillwater', '6.6', '60', '39828'),\n",
       " ('Blue Bayou', '7.1', '58', '6416'),\n",
       " ('Station Eleven', '7.6', 0, '22872'),\n",
       " ('Spiral: From the Book of Saw', '5.2', '40', '50570'),\n",
       " (\"Zack Snyder's Justice League\", '8.0', '54', '382673'),\n",
       " ('American Horror Stories', '6.1', 0, '16125'),\n",
       " ('The Green Knight', '6.6', '85', '94713'),\n",
       " ('The Voyeurs', '6.0', '54', '19537'),\n",
       " ('The Power of the Dog', '6.8', '89', '163805'),\n",
       " ('Dexter: New Blood', '8.2', 0, '83147'),\n",
       " ('Ku bei', '6.5', '68', '7982'),\n",
       " ('Competencia oficial', '7.2', '76', '3582'),\n",
       " ('Belfast', '7.3', '75', '61732'),\n",
       " ('Nine Perfect Strangers', '7.0', 0, '47122'),\n",
       " ('The Upshaws', '6.8', 0, '2568'),\n",
       " ('King Richard', '7.5', '76', '98397'),\n",
       " ('Foundation', '7.4', 0, '55254'),\n",
       " ('The Tomorrow War', '6.5', '45', '198479'),\n",
       " ('Star Wars: The Bad Batch', '7.9', 0, '29886'),\n",
       " ('Maid', '8.4', 0, '77793'),\n",
       " ('Resident Alien', '8.1', 0, '36115'),\n",
       " ('Godzilla vs. Kong', '6.3', '59', '201145'),\n",
       " ('The Lost Daughter', '6.7', '86', '59684'),\n",
       " ('Montana Story', '6.5', '73', '480'),\n",
       " ('The Guilty', '6.3', '63', '117262'),\n",
       " ('Cruella', '7.3', '59', '224242'),\n",
       " ('Spencer', '6.6', '76', '60743'),\n",
       " ('Fear Street: 1994', '6.2', '67', '76672'),\n",
       " ('Jungle Cruise', '6.6', '50', '180530'),\n",
       " ('Candyman', '5.9', '72', '59544'),\n",
       " ('Dear Evan Hansen', '6.1', '39', '13491'),\n",
       " ('Lamb', '6.3', '68', '24323'),\n",
       " ('The Little Things', '6.3', '54', '95819'),\n",
       " ('The Many Saints of Newark', '6.3', '60', '51378'),\n",
       " ('The Falcon and the Winter Soldier', '7.2', 0, '204801'),\n",
       " ('Deadlock', '3.4', 0, '1438'),\n",
       " ('Luca', '7.4', '71', '153696'),\n",
       " ('De uskyldige', '7.0', '79', '8131'),\n",
       " ('The Forgiven', '6.5', '62', '317'),\n",
       " ('Doraibu mai kâ', '7.6', '91', '42918'),\n",
       " ('Chucky', '7.3', 0, '17019'),\n",
       " ('Abbott Elementary', '8.2', 0, '9519'),\n",
       " ('Stay Close', '6.9', 0, '30174'),\n",
       " ('Pig', '6.9', '82', '68231'),\n",
       " ('Behind Her Eyes', '7.2', 0, '58926'),\n",
       " ('Malignant', '6.2', '51', '84413'),\n",
       " ('¿Quién Mató a Sara?', '6.4', 0, '13807'),\n",
       " ('The Phantom of the Open', '7.2', '65', '1622'),\n",
       " ('Mortal Kombat', '6.1', '44', '168096'),\n",
       " ('Old Henry', '7.2', '69', '22651'),\n",
       " ('Halloween Kills', '5.5', '42', '74571'),\n",
       " ('Leverage: Redemption', '8.3', 0, '17254'),\n",
       " ('The Harder They Fall', '6.5', '68', '59339'),\n",
       " ('Clifford the Big Red Dog', '5.9', '55', '12359'),\n",
       " (\"NCIS: Hawai'i\", '6.2', 0, '4988'),\n",
       " ('The Equalizer', '5.0', 0, '12235'),\n",
       " ('Ginny & Georgia', '7.4', 0, '45874'),\n",
       " ('The Hating Game', '6.2', 0, '13522'),\n",
       " ('Reservation Dogs', '8.0', 0, '11258'),\n",
       " ('Fear Street: 1978', '6.7', '61', '60009'),\n",
       " (\"C'mon C'mon\", '7.5', '82', '25597'),\n",
       " (\"Hitman's Wife's Bodyguard\", '6.1', '32', '87118'),\n",
       " ('Infinite', '5.4', '28', '47010'),\n",
       " ('Vortex', '7.5', '82', '2571'),\n",
       " ('The Survivor', '6.8', '71', '2598'),\n",
       " ('After We Fell', '4.6', 0, '13021'),\n",
       " ('iCarly', '6.5', 0, '4548'),\n",
       " ('The Nevers', '7.4', 0, '22425'),\n",
       " ('Fate: The Winx Saga', '6.8', 0, '39182'),\n",
       " ('Rutherford Falls', '6.5', 0, '2257'),\n",
       " ('The Fallout', '7.0', '84', '14500'),\n",
       " ('Raya and the Last Dragon', '7.3', '75', '145266'),\n",
       " ('Army of the Dead', '5.7', '57', '168849'),\n",
       " ('Red Rocket', '7.2', '76', '19900'),\n",
       " ('Army of Thieves', '6.4', '49', '73228'),\n",
       " ('Benedetta', '6.8', '73', '17125'),\n",
       " ('Made for Love', '6.9', 0, '10209'),\n",
       " ('tick, tick...BOOM!', '7.5', '74', '99980'),\n",
       " ('After Yang', '6.7', '79', '9232'),\n",
       " ('The Mitchells vs the Machines', '7.6', '81', '103707'),\n",
       " ('Law & Order: Organized Crime', '7.7', 0, '6703'),\n",
       " ('Boiling Point', '7.5', '73', '20076'),\n",
       " ('Young Rock', '7.9', 0, '16554'),\n",
       " ('The Unforgivable', '7.1', '41', '104660'),\n",
       " ('Young Royals', '8.3', 0, '28695'),\n",
       " ('Cinderella', '4.2', '41', '40702'),\n",
       " ('American Underdog', '7.1', '53', '11924'),\n",
       " ('The Conjuring: The Devil Made Me Do It', '6.3', '53', '108984'),\n",
       " ('The Righteous', '5.7', '67', '278'),\n",
       " ('Omerta 6/12', '5.5', '41', '767'),\n",
       " ('And Just Like That...', '5.6', 0, '26367'),\n",
       " ('Way Down', '6.4', '50', '23912'),\n",
       " ('Heels', '8.0', 0, '6600'),\n",
       " ('Lakewood', '4.7', '35', '3830'),\n",
       " ('Wrong Turn', '5.5', '46', '29585'),\n",
       " ('Titane', '6.6', '75', '41570'),\n",
       " ('Chaos Walking', '5.7', '38', '46020'),\n",
       " ('Dashcam', '4.8', '48', '1759'),\n",
       " ('Inside Job', '7.6', 0, '16344'),\n",
       " ('La Brea', '5.6', 0, '9294'),\n",
       " ('The Eyes of Tammy Faye', '6.6', '55', '28967'),\n",
       " ('The Protégé', '6.1', '48', '30074'),\n",
       " ('Reminiscence', '5.8', '46', '53299'),\n",
       " ('Nitram', '7.2', '80', '5656'),\n",
       " ('Respect', '6.5', '61', '13249'),\n",
       " ('Gekijouban Jujutsu Kaisen 0', '7.9', '72', '10497'),\n",
       " ('The Tragedy of Macbeth', '7.1', '87', '31898'),\n",
       " (\"Don't Breathe 2\", '6.0', '46', '52439'),\n",
       " ('Finch', '6.8', '57', '78395'),\n",
       " ('Lupin', '7.5', 0, '102311'),\n",
       " ('Annika', '6.9', 0, '3339'),\n",
       " ('Scenes from a Marriage', '8.0', 0, '20606'),\n",
       " ('The Tender Bar', '6.7', '53', '26022'),\n",
       " (\"Clarkson's Farm\", '9.0', 0, '33637'),\n",
       " ('Kate', '6.2', '47', '59089'),\n",
       " ('Rumble', '5.9', '48', '5701'),\n",
       " ('The Medium', '6.5', 0, '7215'),\n",
       " ('Invasion', '5.9', 0, '26047'),\n",
       " ('FBI: International', '6.3', 0, '3508'),\n",
       " ('Girls5eva', '7.2', 0, '3352'),\n",
       " ('Sweet Tooth', '7.8', 0, '49985'),\n",
       " ('Gossip Girl', '5.3', 0, '10756'),\n",
       " ('Gunpowder Milkshake', '6.0', '47', '42384'),\n",
       " ('Clickbait', '7.2', 0, '51162'),\n",
       " ('Cruel Summer', '7.4', 0, '13604'),\n",
       " ('One of Us Is Lying', '6.8', 0, '8019'),\n",
       " ('Snake Eyes: G.I. Joe Origins', '5.3', '43', '36984'),\n",
       " ('The Holiday', '4.8', 0, '828'),\n",
       " ('Down with the King', '5.7', 0, '222'),\n",
       " ('No Sudden Move', '6.4', '76', '33149'),\n",
       " ('Cowboy Bebop', '6.7', 0, '38188'),\n",
       " (\"L'événement\", '7.4', '86', '4094'),\n",
       " ('In the Heights', '7.3', '84', '45699'),\n",
       " ('Entrevías', '6.7', 0, '1567')]"
      ]
     },
     "execution_count": 11,
     "metadata": {},
     "output_type": "execute_result"
    }
   ],
   "source": [
    "temp = [] #init\n",
    "j = 1\n",
    "n = 200 #Banyaknya judul yang ingin diambil(kelipatan 50)\n",
    "\n",
    "while j < 200:\n",
    "    url_get = requests.get('https://www.imdb.com/search/title/?release_date=2021-01-01,2021-12-31&start='+str(j)+'&ref_=adv_nxt')\n",
    "    soup = BeautifulSoup(url_get.content,\"html.parser\")\n",
    "    table = soup.find('div', attrs={'class':'lister-list'}).find_all('div',attrs={'class':'lister-item-content'})\n",
    "    j = j + 50\n",
    "\n",
    "    for i in range(0, row_length):\n",
    "    \n",
    "        #get Title \n",
    "        Title = table[i].find('h3', attrs={'class':'lister-item-header'}).find('a').text.strip()\n",
    "    \n",
    "        try:\n",
    "            #get Rating\n",
    "            Rating = table[i].find('div', attrs={'class':'inline-block ratings-imdb-rating'}).text.strip()\n",
    "        except AttributeError:\n",
    "            Rating = 0\n",
    " \n",
    "        try:\n",
    "            #get meta score\n",
    "            Meta_Score = table[i].find('div', attrs={'class':'inline-block ratings-metascore'}).find('span').text.strip()\n",
    "        except AttributeError:\n",
    "            Meta_Score = 0\n",
    "        \n",
    "        try:\n",
    "            #get votes\n",
    "            Votes = table[i].find('p', attrs={'class':'sort-num_votes-visible'}).find('span', attrs={'name':'nv'}).\\\n",
    "            text.strip().replace(\",\",\"\")\n",
    "        except AttributeError:\n",
    "            Votes = 0\n",
    "    \n",
    "        temp.append((Title,Rating,Meta_Score,Votes)) \n",
    "    \n",
    "temp "
   ]
  },
  {
   "cell_type": "markdown",
   "metadata": {},
   "source": [
    "___"
   ]
  },
  {
   "cell_type": "markdown",
   "metadata": {},
   "source": [
    "## Membuat Data frame dan Data wrangling"
   ]
  },
  {
   "cell_type": "markdown",
   "metadata": {},
   "source": [
    "Ubah data pada `temp` menjadi dataframe dengan memakai library `pandas` dan simpan di variabel `df`."
   ]
  },
  {
   "cell_type": "code",
   "execution_count": 12,
   "metadata": {
    "ExecuteTime": {
     "end_time": "2020-01-13T05:12:41.517372Z",
     "start_time": "2020-01-13T05:12:29.130015Z"
    }
   },
   "outputs": [
    {
     "data": {
      "text/html": [
       "<div>\n",
       "<style scoped>\n",
       "    .dataframe tbody tr th:only-of-type {\n",
       "        vertical-align: middle;\n",
       "    }\n",
       "\n",
       "    .dataframe tbody tr th {\n",
       "        vertical-align: top;\n",
       "    }\n",
       "\n",
       "    .dataframe thead th {\n",
       "        text-align: right;\n",
       "    }\n",
       "</style>\n",
       "<table border=\"1\" class=\"dataframe\">\n",
       "  <thead>\n",
       "    <tr style=\"text-align: right;\">\n",
       "      <th></th>\n",
       "      <th>Title</th>\n",
       "      <th>Rating</th>\n",
       "      <th>Meta_Score</th>\n",
       "      <th>Votes</th>\n",
       "    </tr>\n",
       "  </thead>\n",
       "  <tbody>\n",
       "    <tr>\n",
       "      <th>0</th>\n",
       "      <td>The Black Phone</td>\n",
       "      <td>7.3</td>\n",
       "      <td>65</td>\n",
       "      <td>23714</td>\n",
       "    </tr>\n",
       "    <tr>\n",
       "      <th>1</th>\n",
       "      <td>Only Murders in the Building</td>\n",
       "      <td>8.1</td>\n",
       "      <td>0</td>\n",
       "      <td>73507</td>\n",
       "    </tr>\n",
       "    <tr>\n",
       "      <th>2</th>\n",
       "      <td>Sing 2</td>\n",
       "      <td>7.4</td>\n",
       "      <td>49</td>\n",
       "      <td>55541</td>\n",
       "    </tr>\n",
       "    <tr>\n",
       "      <th>3</th>\n",
       "      <td>Spider-Man: No Way Home</td>\n",
       "      <td>8.3</td>\n",
       "      <td>71</td>\n",
       "      <td>672875</td>\n",
       "    </tr>\n",
       "    <tr>\n",
       "      <th>4</th>\n",
       "      <td>1883</td>\n",
       "      <td>8.8</td>\n",
       "      <td>0</td>\n",
       "      <td>56044</td>\n",
       "    </tr>\n",
       "  </tbody>\n",
       "</table>\n",
       "</div>"
      ],
      "text/plain": [
       "                          Title Rating Meta_Score   Votes\n",
       "0               The Black Phone    7.3         65   23714\n",
       "1  Only Murders in the Building    8.1          0   73507\n",
       "2                        Sing 2    7.4         49   55541\n",
       "3       Spider-Man: No Way Home    8.3         71  672875\n",
       "4                          1883    8.8          0   56044"
      ]
     },
     "execution_count": 12,
     "metadata": {},
     "output_type": "execute_result"
    }
   ],
   "source": [
    "import pandas as pd\n",
    "\n",
    "df = pd.DataFrame(temp, columns = ('Title','Rating','Meta_Score','Votes'))\n",
    "df.head()"
   ]
  },
  {
   "cell_type": "markdown",
   "metadata": {},
   "source": [
    "Pembersihan data dilakukan dengan melihat tipe data yang sudah didapat"
   ]
  },
  {
   "cell_type": "code",
   "execution_count": 13,
   "metadata": {
    "ExecuteTime": {
     "end_time": "2020-01-13T05:12:59.165559Z",
     "start_time": "2020-01-13T05:12:58.910012Z"
    }
   },
   "outputs": [
    {
     "data": {
      "text/plain": [
       "Title         object\n",
       "Rating        object\n",
       "Meta_Score    object\n",
       "Votes         object\n",
       "dtype: object"
      ]
     },
     "execution_count": 13,
     "metadata": {},
     "output_type": "execute_result"
    }
   ],
   "source": [
    "df.dtypes"
   ]
  },
  {
   "cell_type": "markdown",
   "metadata": {},
   "source": [
    "Setelah dilakukan pengecekan, ada beberapa data yang tidak sesuai dengan pengolahan. merubah tipe data `Rating` dan `Meta_Score` menjadi *float* dan `Votes` menjadi *integer*."
   ]
  },
  {
   "cell_type": "code",
   "execution_count": 14,
   "metadata": {},
   "outputs": [
    {
     "data": {
      "text/plain": [
       "Title          object\n",
       "Rating        float64\n",
       "Meta_Score    float64\n",
       "Votes           int64\n",
       "dtype: object"
      ]
     },
     "execution_count": 14,
     "metadata": {},
     "output_type": "execute_result"
    }
   ],
   "source": [
    "df[['Rating','Meta_Score']] = df[['Rating','Meta_Score']].astype('float64')\n",
    "df['Votes'] = df['Votes'].astype('int64')\n",
    "df.dtypes"
   ]
  },
  {
   "cell_type": "markdown",
   "metadata": {},
   "source": [
    "Setelah diperhatikan, pada tabel di atas terdapat judul dengan nilai `Meta_Score` 0. Lakukan subset untuk mengetahui apakah ada persamaan pada judul tersebut."
   ]
  },
  {
   "cell_type": "code",
   "execution_count": 15,
   "metadata": {},
   "outputs": [
    {
     "data": {
      "text/html": [
       "<div>\n",
       "<style scoped>\n",
       "    .dataframe tbody tr th:only-of-type {\n",
       "        vertical-align: middle;\n",
       "    }\n",
       "\n",
       "    .dataframe tbody tr th {\n",
       "        vertical-align: top;\n",
       "    }\n",
       "\n",
       "    .dataframe thead th {\n",
       "        text-align: right;\n",
       "    }\n",
       "</style>\n",
       "<table border=\"1\" class=\"dataframe\">\n",
       "  <thead>\n",
       "    <tr style=\"text-align: right;\">\n",
       "      <th></th>\n",
       "      <th>Title</th>\n",
       "      <th>Rating</th>\n",
       "      <th>Meta_Score</th>\n",
       "      <th>Votes</th>\n",
       "    </tr>\n",
       "  </thead>\n",
       "  <tbody>\n",
       "    <tr>\n",
       "      <th>1</th>\n",
       "      <td>Only Murders in the Building</td>\n",
       "      <td>8.1</td>\n",
       "      <td>0.0</td>\n",
       "      <td>73507</td>\n",
       "    </tr>\n",
       "    <tr>\n",
       "      <th>4</th>\n",
       "      <td>1883</td>\n",
       "      <td>8.8</td>\n",
       "      <td>0.0</td>\n",
       "      <td>56044</td>\n",
       "    </tr>\n",
       "    <tr>\n",
       "      <th>6</th>\n",
       "      <td>Superman &amp; Lois</td>\n",
       "      <td>7.8</td>\n",
       "      <td>0.0</td>\n",
       "      <td>30541</td>\n",
       "    </tr>\n",
       "    <tr>\n",
       "      <th>8</th>\n",
       "      <td>Hacks</td>\n",
       "      <td>8.2</td>\n",
       "      <td>0.0</td>\n",
       "      <td>25158</td>\n",
       "    </tr>\n",
       "    <tr>\n",
       "      <th>12</th>\n",
       "      <td>The Book of Boba Fett</td>\n",
       "      <td>7.3</td>\n",
       "      <td>0.0</td>\n",
       "      <td>133795</td>\n",
       "    </tr>\n",
       "    <tr>\n",
       "      <th>13</th>\n",
       "      <td>You Don't Know Me</td>\n",
       "      <td>6.8</td>\n",
       "      <td>0.0</td>\n",
       "      <td>3926</td>\n",
       "    </tr>\n",
       "    <tr>\n",
       "      <th>14</th>\n",
       "      <td>WandaVision</td>\n",
       "      <td>7.9</td>\n",
       "      <td>0.0</td>\n",
       "      <td>301249</td>\n",
       "    </tr>\n",
       "    <tr>\n",
       "      <th>18</th>\n",
       "      <td>Invincible</td>\n",
       "      <td>8.7</td>\n",
       "      <td>0.0</td>\n",
       "      <td>121087</td>\n",
       "    </tr>\n",
       "    <tr>\n",
       "      <th>22</th>\n",
       "      <td>Ojing-eo geim</td>\n",
       "      <td>8.0</td>\n",
       "      <td>0.0</td>\n",
       "      <td>424874</td>\n",
       "    </tr>\n",
       "    <tr>\n",
       "      <th>26</th>\n",
       "      <td>Yellowjackets</td>\n",
       "      <td>7.9</td>\n",
       "      <td>0.0</td>\n",
       "      <td>40084</td>\n",
       "    </tr>\n",
       "    <tr>\n",
       "      <th>27</th>\n",
       "      <td>Arcane: League of Legends</td>\n",
       "      <td>9.0</td>\n",
       "      <td>0.0</td>\n",
       "      <td>184471</td>\n",
       "    </tr>\n",
       "    <tr>\n",
       "      <th>28</th>\n",
       "      <td>Loki</td>\n",
       "      <td>8.2</td>\n",
       "      <td>0.0</td>\n",
       "      <td>291051</td>\n",
       "    </tr>\n",
       "    <tr>\n",
       "      <th>36</th>\n",
       "      <td>Walker</td>\n",
       "      <td>5.9</td>\n",
       "      <td>0.0</td>\n",
       "      <td>11118</td>\n",
       "    </tr>\n",
       "    <tr>\n",
       "      <th>37</th>\n",
       "      <td>The Outlaws</td>\n",
       "      <td>7.6</td>\n",
       "      <td>0.0</td>\n",
       "      <td>8944</td>\n",
       "    </tr>\n",
       "    <tr>\n",
       "      <th>42</th>\n",
       "      <td>Dopesick</td>\n",
       "      <td>8.6</td>\n",
       "      <td>0.0</td>\n",
       "      <td>48891</td>\n",
       "    </tr>\n",
       "    <tr>\n",
       "      <th>43</th>\n",
       "      <td>Joe Pickett</td>\n",
       "      <td>7.5</td>\n",
       "      <td>0.0</td>\n",
       "      <td>1913</td>\n",
       "    </tr>\n",
       "    <tr>\n",
       "      <th>45</th>\n",
       "      <td>Physical</td>\n",
       "      <td>7.3</td>\n",
       "      <td>0.0</td>\n",
       "      <td>8229</td>\n",
       "    </tr>\n",
       "    <tr>\n",
       "      <th>46</th>\n",
       "      <td>The Wheel of Time</td>\n",
       "      <td>7.1</td>\n",
       "      <td>0.0</td>\n",
       "      <td>96821</td>\n",
       "    </tr>\n",
       "    <tr>\n",
       "      <th>51</th>\n",
       "      <td>The Sex Lives of College Girls</td>\n",
       "      <td>7.7</td>\n",
       "      <td>0.0</td>\n",
       "      <td>14131</td>\n",
       "    </tr>\n",
       "    <tr>\n",
       "      <th>53</th>\n",
       "      <td>The White Lotus</td>\n",
       "      <td>7.6</td>\n",
       "      <td>0.0</td>\n",
       "      <td>59256</td>\n",
       "    </tr>\n",
       "  </tbody>\n",
       "</table>\n",
       "</div>"
      ],
      "text/plain": [
       "                             Title  Rating  Meta_Score   Votes\n",
       "1     Only Murders in the Building     8.1         0.0   73507\n",
       "4                             1883     8.8         0.0   56044\n",
       "6                  Superman & Lois     7.8         0.0   30541\n",
       "8                            Hacks     8.2         0.0   25158\n",
       "12           The Book of Boba Fett     7.3         0.0  133795\n",
       "13               You Don't Know Me     6.8         0.0    3926\n",
       "14                     WandaVision     7.9         0.0  301249\n",
       "18                      Invincible     8.7         0.0  121087\n",
       "22                   Ojing-eo geim     8.0         0.0  424874\n",
       "26                   Yellowjackets     7.9         0.0   40084\n",
       "27       Arcane: League of Legends     9.0         0.0  184471\n",
       "28                            Loki     8.2         0.0  291051\n",
       "36                          Walker     5.9         0.0   11118\n",
       "37                     The Outlaws     7.6         0.0    8944\n",
       "42                        Dopesick     8.6         0.0   48891\n",
       "43                     Joe Pickett     7.5         0.0    1913\n",
       "45                        Physical     7.3         0.0    8229\n",
       "46               The Wheel of Time     7.1         0.0   96821\n",
       "51  The Sex Lives of College Girls     7.7         0.0   14131\n",
       "53                 The White Lotus     7.6         0.0   59256"
      ]
     },
     "execution_count": 15,
     "metadata": {},
     "output_type": "execute_result"
    }
   ],
   "source": [
    "df[df['Meta_Score'] == 0].head(20)"
   ]
  },
  {
   "cell_type": "markdown",
   "metadata": {},
   "source": [
    "Ternyata judul dengan nilai `Meta_Score` 0 adalah Judul TV-Series, dengan demikian dapat dipisahkan antara Judul Film dan Judul TV-Series dengan dua variabel:\n",
    "- `Top20Film` : 20 Judul film dengan votes terbanyak\n",
    "- `Top20Series` : 20 Judul series dengan votes terbanyak\n",
    "\n",
    "Dikarenakan mencari film paling populer, maka data diurutkan sesuai dengan jumlah `Votes` dan diambil 20 terpopuler. "
   ]
  },
  {
   "cell_type": "code",
   "execution_count": 16,
   "metadata": {},
   "outputs": [],
   "source": [
    "Top20Film = df[df['Meta_Score'] != 0].sort_values(by='Votes').tail(20)\n",
    "Top20Series = df[df['Meta_Score'] == 0].sort_values(by='Votes').tail(20)"
   ]
  },
  {
   "cell_type": "code",
   "execution_count": 17,
   "metadata": {},
   "outputs": [
    {
     "data": {
      "text/html": [
       "<div>\n",
       "<style scoped>\n",
       "    .dataframe tbody tr th:only-of-type {\n",
       "        vertical-align: middle;\n",
       "    }\n",
       "\n",
       "    .dataframe tbody tr th {\n",
       "        vertical-align: top;\n",
       "    }\n",
       "\n",
       "    .dataframe thead th {\n",
       "        text-align: right;\n",
       "    }\n",
       "</style>\n",
       "<table border=\"1\" class=\"dataframe\">\n",
       "  <thead>\n",
       "    <tr style=\"text-align: right;\">\n",
       "      <th></th>\n",
       "      <th>Title</th>\n",
       "      <th>Rating</th>\n",
       "      <th>Meta_Score</th>\n",
       "      <th>Votes</th>\n",
       "    </tr>\n",
       "  </thead>\n",
       "  <tbody>\n",
       "    <tr>\n",
       "      <th>52</th>\n",
       "      <td>Black Widow</td>\n",
       "      <td>6.7</td>\n",
       "      <td>67.0</td>\n",
       "      <td>358651</td>\n",
       "    </tr>\n",
       "    <tr>\n",
       "      <th>32</th>\n",
       "      <td>Shang-Chi and the Legend of the Ten Rings</td>\n",
       "      <td>7.4</td>\n",
       "      <td>71.0</td>\n",
       "      <td>360974</td>\n",
       "    </tr>\n",
       "    <tr>\n",
       "      <th>5</th>\n",
       "      <td>No Time to Die</td>\n",
       "      <td>7.3</td>\n",
       "      <td>68.0</td>\n",
       "      <td>372866</td>\n",
       "    </tr>\n",
       "    <tr>\n",
       "      <th>70</th>\n",
       "      <td>Zack Snyder's Justice League</td>\n",
       "      <td>8.0</td>\n",
       "      <td>54.0</td>\n",
       "      <td>382673</td>\n",
       "    </tr>\n",
       "    <tr>\n",
       "      <th>35</th>\n",
       "      <td>Don't Look Up</td>\n",
       "      <td>7.2</td>\n",
       "      <td>49.0</td>\n",
       "      <td>512259</td>\n",
       "    </tr>\n",
       "    <tr>\n",
       "      <th>9</th>\n",
       "      <td>Dune: Part One</td>\n",
       "      <td>8.0</td>\n",
       "      <td>74.0</td>\n",
       "      <td>587865</td>\n",
       "    </tr>\n",
       "    <tr>\n",
       "      <th>3</th>\n",
       "      <td>Spider-Man: No Way Home</td>\n",
       "      <td>8.3</td>\n",
       "      <td>71.0</td>\n",
       "      <td>672875</td>\n",
       "    </tr>\n",
       "  </tbody>\n",
       "</table>\n",
       "</div>"
      ],
      "text/plain": [
       "                                        Title  Rating  Meta_Score   Votes\n",
       "52                                Black Widow     6.7        67.0  358651\n",
       "32  Shang-Chi and the Legend of the Ten Rings     7.4        71.0  360974\n",
       "5                              No Time to Die     7.3        68.0  372866\n",
       "70               Zack Snyder's Justice League     8.0        54.0  382673\n",
       "35                              Don't Look Up     7.2        49.0  512259\n",
       "9                              Dune: Part One     8.0        74.0  587865\n",
       "3                     Spider-Man: No Way Home     8.3        71.0  672875"
      ]
     },
     "execution_count": 17,
     "metadata": {},
     "output_type": "execute_result"
    }
   ],
   "source": [
    "Top20Film.tail(7)"
   ]
  },
  {
   "cell_type": "code",
   "execution_count": 18,
   "metadata": {},
   "outputs": [
    {
     "data": {
      "text/html": [
       "<div>\n",
       "<style scoped>\n",
       "    .dataframe tbody tr th:only-of-type {\n",
       "        vertical-align: middle;\n",
       "    }\n",
       "\n",
       "    .dataframe tbody tr th {\n",
       "        vertical-align: top;\n",
       "    }\n",
       "\n",
       "    .dataframe thead th {\n",
       "        text-align: right;\n",
       "    }\n",
       "</style>\n",
       "<table border=\"1\" class=\"dataframe\">\n",
       "  <thead>\n",
       "    <tr style=\"text-align: right;\">\n",
       "      <th></th>\n",
       "      <th>Title</th>\n",
       "      <th>Rating</th>\n",
       "      <th>Meta_Score</th>\n",
       "      <th>Votes</th>\n",
       "    </tr>\n",
       "  </thead>\n",
       "  <tbody>\n",
       "    <tr>\n",
       "      <th>65</th>\n",
       "      <td>Mare of Easttown</td>\n",
       "      <td>8.5</td>\n",
       "      <td>0.0</td>\n",
       "      <td>145881</td>\n",
       "    </tr>\n",
       "    <tr>\n",
       "      <th>55</th>\n",
       "      <td>Hawkeye</td>\n",
       "      <td>7.6</td>\n",
       "      <td>0.0</td>\n",
       "      <td>164811</td>\n",
       "    </tr>\n",
       "    <tr>\n",
       "      <th>27</th>\n",
       "      <td>Arcane: League of Legends</td>\n",
       "      <td>9.0</td>\n",
       "      <td>0.0</td>\n",
       "      <td>184471</td>\n",
       "    </tr>\n",
       "    <tr>\n",
       "      <th>100</th>\n",
       "      <td>The Falcon and the Winter Soldier</td>\n",
       "      <td>7.2</td>\n",
       "      <td>0.0</td>\n",
       "      <td>204801</td>\n",
       "    </tr>\n",
       "    <tr>\n",
       "      <th>28</th>\n",
       "      <td>Loki</td>\n",
       "      <td>8.2</td>\n",
       "      <td>0.0</td>\n",
       "      <td>291051</td>\n",
       "    </tr>\n",
       "    <tr>\n",
       "      <th>14</th>\n",
       "      <td>WandaVision</td>\n",
       "      <td>7.9</td>\n",
       "      <td>0.0</td>\n",
       "      <td>301249</td>\n",
       "    </tr>\n",
       "    <tr>\n",
       "      <th>22</th>\n",
       "      <td>Ojing-eo geim</td>\n",
       "      <td>8.0</td>\n",
       "      <td>0.0</td>\n",
       "      <td>424874</td>\n",
       "    </tr>\n",
       "  </tbody>\n",
       "</table>\n",
       "</div>"
      ],
      "text/plain": [
       "                                 Title  Rating  Meta_Score   Votes\n",
       "65                    Mare of Easttown     8.5         0.0  145881\n",
       "55                             Hawkeye     7.6         0.0  164811\n",
       "27           Arcane: League of Legends     9.0         0.0  184471\n",
       "100  The Falcon and the Winter Soldier     7.2         0.0  204801\n",
       "28                                Loki     8.2         0.0  291051\n",
       "14                         WandaVision     7.9         0.0  301249\n",
       "22                       Ojing-eo geim     8.0         0.0  424874"
      ]
     },
     "execution_count": 18,
     "metadata": {},
     "output_type": "execute_result"
    }
   ],
   "source": [
    "Top20Series.tail(7)"
   ]
  },
  {
   "cell_type": "markdown",
   "metadata": {},
   "source": [
    "Berikut adalah 7 judul film dan series tahun 2021 dengan `Votes` terbanyak dari situs IMDB"
   ]
  },
  {
   "cell_type": "code",
   "execution_count": 19,
   "metadata": {},
   "outputs": [],
   "source": [
    "Top20Film = Top20Film.set_index('Title')\n",
    "Top20Series = Top20Series.set_index('Title')"
   ]
  },
  {
   "cell_type": "code",
   "execution_count": 20,
   "metadata": {},
   "outputs": [
    {
     "data": {
      "text/plain": [
       "<AxesSubplot:title={'center':'Tujuh Film Populer Tahun 2021'}, ylabel=' '>"
      ]
     },
     "execution_count": 20,
     "metadata": {},
     "output_type": "execute_result"
    },
    {
     "data": {
      "image/png": "[encoded data removed]",
      "text/plain": [
       "<Figure size 432x288 with 1 Axes>"
      ]
     },
     "metadata": {
      "needs_background": "light"
     },
     "output_type": "display_data"
    }
   ],
   "source": [
    "Top20Film.tail(7).plot(kind = 'barh', y = 'Votes', \n",
    "                   rot = 0, color = ['r','g','b','c','m','y','k'], \n",
    "                   legend=False, title = 'Tujuh Film Populer Tahun 2021',xlabel = ' ', fontsize = '10')"
   ]
  },
  {
   "cell_type": "markdown",
   "metadata": {},
   "source": [
    "Setelah data didapat, berikut chart Bar film populer tahun 2021"
   ]
  },
  {
   "cell_type": "markdown",
   "metadata": {},
   "source": [
    "___"
   ]
  },
  {
   "cell_type": "markdown",
   "metadata": {},
   "source": [
    "### Implementasi flaskapp\n",
    "\n",
    "1. Buka script python `app.py` di IDE lalu isi sesuai command yang telah tertera\n",
    "<img src=\"assets_notebook/get.png\">\n",
    "\n",
    "isi bagian ini dengan *code* untuk bagian mengambil data `html`\n",
    "\n",
    "<img src=\"assets_notebook/iteration.png\">\n",
    "\n",
    "isi bagian ini dengan *code* untuk bagian iterasi pengambilan data\n",
    "\n",
    "<img src=\"assets_notebook/dataframe.png\">\n",
    "\n",
    "isi bagian ini dengan *code* untuk bagian dataframe dan datawrangling\n",
    "\n",
    "<img src=\"assets_notebook/cardtitle.png\">\n",
    "\n",
    "isi bagian ini dengan *code* untuk bagian rata-rata votes\n",
    "\n",
    "<img src=\"assets_notebook/generatefilmpop.png\">\n",
    "\n",
    "isi bagian ini dengan *code* untuk bagian chart bar film populer\n",
    "\n",
    "2. Buka script `index.html` untuk memunculkan hasil dari `app.py`\n",
    "<img src=\"assets_notebook/filmpophtml.png\">\n",
    "\n",
    "isi bagian ini untuk menampilkan chart bar film populer\n",
    "\n",
    "3. Setelah selesai `save` kedua file tersebut lalu run `app.py` setelah itu *webpage* akan muncul\n",
    "<img src=\"assets_notebook/flaskweb.png\">"
   ]
  },
  {
   "cell_type": "markdown",
   "metadata": {},
   "source": [
    "## Kesimpulan\n",
    "\n",
    "Dari data yang didapat terdapat kesimpulan sebagai berikut:\n",
    "- Film paling populer tahun 2021 adalah **Spider-man: No Way Home**\n",
    "- Rata - rata film dan tv series 2021 diulas sebanyak 78434 user IMDb\n",
    "- Judul yang tidak memiliki `Meta_Score` adalah Judul TV-Series"
   ]
  },
  {
   "cell_type": "markdown",
   "metadata": {},
   "source": [
    "___"
   ]
  },
  {
   "cell_type": "markdown",
   "metadata": {},
   "source": [
    "### Extra Challange\n",
    "\n",
    "Dari data yang didapat, film rekomendasi dapat ditampilkan. Data tv-series juga bisa dianalisis untuk tv-series populer dan rekomendasi.  "
   ]
  },
  {
   "cell_type": "code",
   "execution_count": 21,
   "metadata": {},
   "outputs": [
    {
     "data": {
      "text/plain": [
       "<AxesSubplot:>"
      ]
     },
     "execution_count": 21,
     "metadata": {},
     "output_type": "execute_result"
    },
    {
     "data": {
      "image/png": "[encoded data removed]",
      "text/plain": [
       "<Figure size 432x288 with 1 Axes>"
      ]
     },
     "metadata": {
      "needs_background": "light"
     },
     "output_type": "display_data"
    }
   ],
   "source": [
    "Top20Film.sort_values(by='Rating').tail(7).plot(kind = 'barh', \n",
    "                                            y = 'Rating', rot = 0, \n",
    "                                            color = ['r','g','b','c','m','y','k'], \n",
    "                                            legend=False, xlabel = '')"
   ]
  },
  {
   "cell_type": "code",
   "execution_count": 22,
   "metadata": {},
   "outputs": [
    {
     "data": {
      "text/plain": [
       "<AxesSubplot:>"
      ]
     },
     "execution_count": 22,
     "metadata": {},
     "output_type": "execute_result"
    },
    {
     "data": {
      "image/png": "[encoded data removed]",
      "text/plain": [
       "<Figure size 432x288 with 1 Axes>"
      ]
     },
     "metadata": {
      "needs_background": "light"
     },
     "output_type": "display_data"
    }
   ],
   "source": [
    "Top20Film.sort_values(by='Meta_Score').tail(7).plot(kind = 'barh', \n",
    "                                            y = 'Meta_Score', rot = 0, \n",
    "                                            color = ['r','g','b','c','m','y','k'], \n",
    "                                            legend=False, xlabel = '')"
   ]
  },
  {
   "cell_type": "markdown",
   "metadata": {},
   "source": [
    "Jika dirunut dari `Rating` dan `Meta_Score` terlihat perbedaan dari sisi posisi. Oleh karena itu dua nilai tersebut dapat digabung agar mendapat satu hasil yang baru."
   ]
  },
  {
   "cell_type": "code",
   "execution_count": 23,
   "metadata": {},
   "outputs": [],
   "source": [
    "Top20Film['Meta_Score'] = Top20Film['Meta_Score']/10"
   ]
  },
  {
   "cell_type": "markdown",
   "metadata": {},
   "source": [
    "Lakukan normalisasi pada nilai `Meta_Score` agar penjumlahan sesuai setelah itu masukkan ke kolom baru, `Meta_Rating`."
   ]
  },
  {
   "cell_type": "code",
   "execution_count": 24,
   "metadata": {},
   "outputs": [],
   "source": [
    "Top20Film['Meta_Rating'] = Top20Film['Rating'] + Top20Film['Meta_Score']"
   ]
  },
  {
   "cell_type": "code",
   "execution_count": 25,
   "metadata": {
    "scrolled": true
   },
   "outputs": [
    {
     "data": {
      "text/plain": [
       "<AxesSubplot:title={'center':'Tujuh Film Rekomendasi Tahun 2021'}>"
      ]
     },
     "execution_count": 25,
     "metadata": {},
     "output_type": "execute_result"
    },
    {
     "data": {
      "image/png": "[encoded data removed]",
      "text/plain": [
       "<Figure size 432x288 with 1 Axes>"
      ]
     },
     "metadata": {
      "needs_background": "light"
     },
     "output_type": "display_data"
    }
   ],
   "source": [
    "Top20Film.sort_values(by='Meta_Rating').tail(7).plot(kind = 'barh', \n",
    "                                            y = 'Meta_Rating', rot = 0, \n",
    "                                            color = ['r','g','b','c','m','y','k'], \n",
    "                                            legend=False, title = 'Tujuh Film Rekomendasi Tahun 2021', xlabel = '')"
   ]
  },
  {
   "cell_type": "markdown",
   "metadata": {},
   "source": [
    "Terlihat hasil dari chart bar, untuk film rekomendasi tahun 2021"
   ]
  },
  {
   "cell_type": "code",
   "execution_count": 26,
   "metadata": {},
   "outputs": [
    {
     "data": {
      "text/plain": [
       "<AxesSubplot:title={'center':'Tujuh TV-Series Populer Tahun 2021'}>"
      ]
     },
     "execution_count": 26,
     "metadata": {},
     "output_type": "execute_result"
    },
    {
     "data": {
      "image/png": "[encoded data removed]",
      "text/plain": [
       "<Figure size 432x288 with 1 Axes>"
      ]
     },
     "metadata": {
      "needs_background": "light"
     },
     "output_type": "display_data"
    }
   ],
   "source": [
    "Top20Series.tail(7).plot(kind = 'barh', y = 'Votes', \n",
    "                   rot = 0, color = ['r','g','b','c','m','y','k'], \n",
    "                   legend=False, title = 'Tujuh TV-Series Populer Tahun 2021',xlabel = '',fontsize = '10')"
   ]
  },
  {
   "cell_type": "markdown",
   "metadata": {},
   "source": [
    "Karena didapat data untuk tv series juga, maka bisa disimpulkan juga tv-series populer tahun 2021"
   ]
  },
  {
   "cell_type": "code",
   "execution_count": 27,
   "metadata": {},
   "outputs": [
    {
     "data": {
      "text/plain": [
       "<AxesSubplot:>"
      ]
     },
     "execution_count": 27,
     "metadata": {},
     "output_type": "execute_result"
    },
    {
     "data": {
      "image/png": "[encoded data removed]",
      "text/plain": [
       "<Figure size 432x288 with 1 Axes>"
      ]
     },
     "metadata": {
      "needs_background": "light"
     },
     "output_type": "display_data"
    }
   ],
   "source": [
    "Top20Series.sort_values(by='Rating').tail(7).plot(kind = 'barh', \n",
    "                                            y = 'Rating', rot = 0, \n",
    "                                            color = ['r','g','b','c','m','y','k'], \n",
    "                                            legend=False, xlabel = '')"
   ]
  },
  {
   "cell_type": "markdown",
   "metadata": {},
   "source": [
    "Berikut rekomendasi tv-series tahun 2021. Dikarenakan tidak ada nilai `Meta_Score` maka dapat diurutkan menggunakan `Rating` saja."
   ]
  },
  {
   "cell_type": "markdown",
   "metadata": {},
   "source": [
    "## Kesimpulan Extra Challenge\n",
    "\n",
    "Dari data yang didapat terdapat kesimpulan sebagai berikut:\n",
    "- Film paling yang direkomendasikan tahun 2021 adalah **Spider-man: No Way Home**\n",
    "- TV-Series paling populer tahun 2021 adalah **Ojing-eo geim** atau lebih dikenal dengan nama **Squid Games**\n",
    "- TV-Series paling yang direkomendasikan tahun 2021 adalah **Arcane: League of Legends**"
   ]
  },
  {
   "cell_type": "markdown",
   "metadata": {},
   "source": [
    "**Semua data di-*run* pada tanggal 10 Juli 2022**"
   ]
  }
 ],
 "metadata": {
  "kernelspec": {
   "display_name": "webscrap_capstone",
   "language": "python",
   "name": "webscrap_capstone"
  },
  "language_info": {
   "codemirror_mode": {
    "name": "ipython",
    "version": 3
   },
   "file_extension": ".py",
   "mimetype": "text/x-python",
   "name": "python",
   "nbconvert_exporter": "python",
   "pygments_lexer": "ipython3",
   "version": "3.9.7"
  }
 },
 "nbformat": 4,
 "nbformat_minor": 2
}
